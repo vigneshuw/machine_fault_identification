{
 "cells": [
  {
   "cell_type": "code",
   "execution_count": 1,
   "outputs": [],
   "source": [
    "import joblib\n",
    "import sys\n",
    "import os\n",
    "import pandas as pd\n",
    "import numpy as np\n",
    "sys.path.append(os.path.join(os.path.dirname(os.getcwd()), \"lib\"))\n",
    "from sklearn.utils  import shuffle\n",
    "import data_prep\n",
    "import feature_extraction"
   ],
   "metadata": {
    "collapsed": false,
    "pycharm": {
     "name": "#%%\n"
    }
   }
  },
  {
   "cell_type": "code",
   "execution_count": 2,
   "outputs": [],
   "source": [
    "# Base directory\n",
    "data_loc = os.path.join(os.path.dirname(os.getcwd()), \"DATA\")\n",
    "\n",
    "# File names\n",
    "file_names = {\n",
    "    0: \"machine_ON_ref_overtravel-error_x_neg_axes-extreme.csv\",\n",
    "    1: \"machine_ON_ref_no-error_3.csv\",\n",
    "    2: \"machine_ON_ref_no-error_4.csv\"\n",
    "}\n",
    "\n",
    "\n",
    "segment_secs = 60\n",
    "# Dont choose \"no\" and \"sample_time\" as they will be added later to the beginning\n",
    "# Chosen - Three different power components for three phases\n",
    "chosen_cols = [\"Power1\", \"Power2\", \"Power3\", \"PowerReac1\", \"PowerReac2\", \"PowerReac3\", \"PowerApp1\", \"PowerApp2\", \"PowerApp3\"]\n",
    "segmented_data = {}\n",
    "for index, file_name in file_names.items():\n",
    "    path = os.path.join(data_loc, file_name)\n",
    "    temp = data_prep.segment_data(file_name=path, col_names=chosen_cols, segment_secs=segment_secs)\n",
    "    # Remove the sample_time col\n",
    "    temp = temp[:, 1:, :]\n",
    "    segmented_data[file_name] =  temp\n",
    "\n",
    "\n",
    "# Associations between the classes and the files in this study\n",
    "class_file_association = {\n",
    "    \"on-ref\": [\"machine_ON_ref_no-error_3.csv\", \"machine_ON_ref_no-error_4.csv\"],\n",
    "    \"overtravel-x\": [\"machine_ON_ref_overtravel-error_x_neg_axes-extreme.csv\"]\n",
    "}\n",
    "# Segment and assign to class\n",
    "class_segmented_data = {}\n",
    "for class_instance in class_file_association.keys():\n",
    "    for index, file_name in enumerate(class_file_association[class_instance]):\n",
    "\n",
    "        if index == 0:\n",
    "            class_segmented_data[class_instance] = segmented_data[file_name]\n",
    "        else:\n",
    "            class_segmented_data[class_instance] = np.append(class_segmented_data[class_instance], segmented_data[file_name], axis=-1)\n",
    "# Reshape the data appropriately\n",
    "for class_instance in class_segmented_data.keys():\n",
    "    class_segmented_data[class_instance] = np.transpose(class_segmented_data[class_instance], (2, 1, 0))"
   ],
   "metadata": {
    "collapsed": false,
    "pycharm": {
     "name": "#%%\n"
    }
   }
  },
  {
   "cell_type": "code",
   "execution_count": 3,
   "outputs": [],
   "source": [
    "# Feature extraction\n",
    "class_dataset_features = {}\n",
    "for class_instance in class_segmented_data.keys():\n",
    "    dataset_features = []\n",
    "    for row in class_segmented_data[class_instance]:\n",
    "        computed_features = []\n",
    "        for col in row:\n",
    "            freq_args = [{\"axis\": 0}, {\"axis\": 0}, {\"axis\": 0, \"nperseg\": 30}]\n",
    "            freq_time_args = [{\"wavelet\": \"db1\"}, {\"wavelet\": \"db1\"}, {\"wavelet\": \"db1\"}]\n",
    "            computed_features += feature_extraction.compute_all_features(col, freq_args=freq_args, freq_time_args=freq_time_args)\n",
    "\n",
    "        # Append to a list\n",
    "        dataset_features.append(computed_features)\n",
    "\n",
    "    # Add to class instance\n",
    "    class_dataset_features[class_instance] = np.array(dataset_features)"
   ],
   "metadata": {
    "collapsed": false,
    "pycharm": {
     "name": "#%%\n"
    }
   }
  },
  {
   "cell_type": "code",
   "execution_count": 4,
   "outputs": [
    {
     "name": "stdout",
     "output_type": "stream",
     "text": [
      "After feature extraction process\n",
      "\n",
      "For the class-on-ref , the extracted features has the shape=(1732, 153)\n",
      "For the class-overtravel-x , the extracted features has the shape=(153, 153)\n"
     ]
    }
   ],
   "source": [
    "sys.stdout.write(\"After feature extraction process\\n\\n\")\n",
    "for class_instance in class_dataset_features.keys():\n",
    "\n",
    "    sys.stdout.write(f'For the class-{class_instance} , the extracted features has the shape={class_dataset_features[class_instance].shape}\\n')"
   ],
   "metadata": {
    "collapsed": false,
    "pycharm": {
     "name": "#%%\n"
    }
   }
  },
  {
   "cell_type": "code",
   "execution_count": 5,
   "outputs": [
    {
     "name": "stdout",
     "output_type": "stream",
     "text": [
      "The final combined shape-(1885, 153)\n"
     ]
    }
   ],
   "source": [
    "class_label_associations = {\n",
    "    \"on-ref\": 0,\n",
    "    \"overtravel-x\": 2\n",
    "}\n",
    "for index, class_instance in enumerate(class_dataset_features.keys()):\n",
    "\n",
    "    temp_X = class_dataset_features[class_instance]\n",
    "    temp_y = np.repeat(class_label_associations[class_instance], temp_X.shape[0])[:, np.newaxis]\n",
    "\n",
    "    if index == 0:\n",
    "        X = temp_X\n",
    "        y = temp_y\n",
    "    else:\n",
    "        X = np.append(X, temp_X, axis=0)\n",
    "        y = np.append(y, temp_y, axis=0)\n",
    "\n",
    "# Shuffle the dataset\n",
    "X, y = shuffle(X, y, random_state=42)\n",
    "# To a vector format\n",
    "y =  np.squeeze(y)\n",
    "\n",
    "sys.stdout.write(f\"The final combined shape-{X.shape}\\n\")"
   ],
   "metadata": {
    "collapsed": false,
    "pycharm": {
     "name": "#%%\n"
    }
   }
  },
  {
   "cell_type": "markdown",
   "source": [
    "Load the models"
   ],
   "metadata": {
    "collapsed": false,
    "pycharm": {
     "name": "#%% md\n"
    }
   }
  },
  {
   "cell_type": "code",
   "execution_count": 6,
   "outputs": [],
   "source": [
    "import joblib\n",
    "import os\n",
    "import pickle\n",
    "from collections import Counter\n",
    "\n",
    "models_dir = os.path.join(os.path.dirname(os.getcwd()), \"trained_models\")\n",
    "models = os.listdir(models_dir)\n",
    "loaded_models = {}\n",
    "\n",
    "for model in models:\n",
    "\n",
    "    if model.split(\".\")[-1] == \"joblib\":\n",
    "          model_path = os.path.join(models_dir, model)\n",
    "          with open(model_path, \"rb\") as file_handle:\n",
    "              loaded_models[model.split(\".\")[0]] = joblib.load(file_handle)\n",
    "    else:\n",
    "        preprocessing_path = os.path.join(models_dir, model)\n",
    "        with open(preprocessing_path , \"rb\") as file_handle:\n",
    "            scaler = pickle.load(file_handle)"
   ],
   "metadata": {
    "collapsed": false,
    "pycharm": {
     "name": "#%%\n"
    }
   }
  },
  {
   "cell_type": "code",
   "execution_count": 7,
   "outputs": [],
   "source": [
    "# Preprocess the data\n",
    "X = scaler[\"object\"].transform(X)\n",
    "\n",
    "prediction_counts = {}\n",
    "scores = {}\n",
    "for model_name in loaded_models:\n",
    "    prediction_counts[model_name] = loaded_models[model_name].predict(X)\n",
    "    scores[model_name] = loaded_models[model_name].score(X, y)"
   ],
   "metadata": {
    "collapsed": false,
    "pycharm": {
     "name": "#%%\n"
    }
   }
  },
  {
   "cell_type": "code",
   "execution_count": 8,
   "outputs": [
    {
     "name": "stdout",
     "output_type": "stream",
     "text": [
      "RandomForestClassifier - Counter({0: 1733, 4: 152})\n",
      "SVC - Counter({0: 1729, 4: 152, 2: 4})\n",
      "LogisticRegression - Counter({0: 1729, 4: 101, 2: 54, 3: 1})\n",
      "BaggingClassifier - Counter({0: 1728, 4: 153, 3: 4})\n",
      "KNeighborsClassifier - Counter({0: 1725, 4: 89, 2: 52, 3: 18, 1: 1})\n",
      "DecisionTreeClassifier - Counter({0: 1726, 4: 153, 2: 4, 3: 2})\n"
     ]
    }
   ],
   "source": [
    "for model_name in prediction_counts:\n",
    "    sys.stdout.write(f\"{model_name} - {Counter(prediction_counts[model_name])}\\n\")"
   ],
   "metadata": {
    "collapsed": false,
    "pycharm": {
     "name": "#%%\n"
    }
   }
  },
  {
   "cell_type": "code",
   "execution_count": 9,
   "outputs": [
    {
     "name": "stdout",
     "output_type": "stream",
     "text": [
      "RandomForestClassifier = 0.9188328912466843\n",
      "SVC = 0.9177718832891246\n",
      "LogisticRegression = 0.9448275862068966\n",
      "BaggingClassifier = 0.916710875331565\n",
      "KNeighborsClassifier = 0.9395225464190982\n",
      "DecisionTreeClassifier = 0.9156498673740053\n"
     ]
    }
   ],
   "source": [
    "for model_name in scores:\n",
    "    sys.stdout.write(f\"{model_name} = {scores[model_name]}\\n\")"
   ],
   "metadata": {
    "collapsed": false,
    "pycharm": {
     "name": "#%%\n"
    }
   }
  },
  {
   "cell_type": "code",
   "execution_count": null,
   "outputs": [],
   "source": [],
   "metadata": {
    "collapsed": false,
    "pycharm": {
     "name": "#%%\n"
    }
   }
  }
 ],
 "metadata": {
  "kernelspec": {
   "display_name": "Python 3",
   "language": "python",
   "name": "python3"
  },
  "language_info": {
   "codemirror_mode": {
    "name": "ipython",
    "version": 2
   },
   "file_extension": ".py",
   "mimetype": "text/x-python",
   "name": "python",
   "nbconvert_exporter": "python",
   "pygments_lexer": "ipython2",
   "version": "2.7.6"
  }
 },
 "nbformat": 4,
 "nbformat_minor": 0
}