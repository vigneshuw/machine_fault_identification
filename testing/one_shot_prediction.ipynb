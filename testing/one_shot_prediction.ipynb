{
 "cells": [
  {
   "cell_type": "markdown",
   "source": [
    "# One-shot Prediction\n",
    "\n",
    "- Predict from trained models using selected data"
   ],
   "metadata": {
    "collapsed": false,
    "pycharm": {
     "name": "#%% md\n"
    }
   }
  },
  {
   "cell_type": "code",
   "execution_count": 1,
   "outputs": [],
   "source": [
    "import joblib\n",
    "import sys\n",
    "import os\n",
    "import pandas as pd\n",
    "import numpy as np\n",
    "sys.path.append(os.path.join(os.path.dirname(os.getcwd()), \"lib\"))\n",
    "from sklearn.utils  import shuffle\n",
    "from sklearn.metrics import f1_score\n",
    "import data_prep\n",
    "import feature_extraction\n",
    "import anomaly_detection_models\n",
    "#from lib.anomaly_detection_models import MahalanobisDistanceClassifer, KDEAnomalyDetector"
   ],
   "metadata": {
    "collapsed": false,
    "pycharm": {
     "name": "#%%\n"
    }
   }
  },
  {
   "cell_type": "markdown",
   "source": [
    "# Loading data\n",
    "\n",
    "- Load the data that is required"
   ],
   "metadata": {
    "collapsed": false,
    "pycharm": {
     "name": "#%% md\n"
    }
   }
  },
  {
   "cell_type": "code",
   "execution_count": 2,
   "outputs": [],
   "source": [
    "# Base directory\n",
    "data_loc = os.path.join(os.path.dirname(os.getcwd()), \"DATA\")\n",
    "\n",
    "# File names\n",
    "file_names = {\n",
    "    0: \"machine_ON_ref_overtravel-error_x_neg_axes-extreme_1.csv\",\n",
    "    1: \"machine_ON_ref_no-error_3.csv\",\n",
    "    2: \"machine_ON_ref_no-error_4.csv\",\n",
    "    3: \"machine_ON_ref_overtravel-error_z_pos_1.csv\",\n",
    "    4: \"machine_ON_no-ref_start-error_4.csv\"\n",
    "}\n",
    "\n",
    "\n",
    "segment_secs = 60\n",
    "# Dont choose \"no\" and \"sample_time\" as they will be added later to the beginning\n",
    "# Chosen - Three different power components for three phases\n",
    "chosen_cols = [\"Power1\", \"Power2\", \"Power3\", \"PowerReac1\", \"PowerReac2\", \"PowerReac3\", \"PowerApp1\", \"PowerApp2\", \"PowerApp3\"]\n",
    "segmented_data = {}\n",
    "for index, file_name in file_names.items():\n",
    "    path = os.path.join(data_loc, file_name)\n",
    "    temp = data_prep.segment_data(file_name=path, col_names=chosen_cols, segment_secs=segment_secs)\n",
    "    # Remove the sample_time col\n",
    "    temp = temp[:, 1:, :]\n",
    "    segmented_data[file_name] =  temp\n",
    "\n",
    "\n",
    "# Associations between the classes and the files in this study\n",
    "class_file_association = {\n",
    "    \"on-ref\": [\"machine_ON_ref_no-error_3.csv\"],\n",
    "    # \"overtravel-x\": [\"machine_ON_ref_overtravel-error_x_neg_axes-extreme_1.csv\"],\n",
    "    # \"overtravel-z\": [\"machine_ON_ref_overtravel-error_z_pos_1.csv\"],\n",
    "    # \"on-noref-error\": [\"machine_ON_no-ref_start-error_4.csv\"]\n",
    "}\n",
    "# Segment and assign to class\n",
    "class_segmented_data = {}\n",
    "for class_instance in class_file_association.keys():\n",
    "    for index, file_name in enumerate(class_file_association[class_instance]):\n",
    "\n",
    "        if index == 0:\n",
    "            class_segmented_data[class_instance] = segmented_data[file_name]\n",
    "        else:\n",
    "            class_segmented_data[class_instance] = np.append(class_segmented_data[class_instance], segmented_data[file_name], axis=-1)\n",
    "# Reshape the data appropriately\n",
    "for class_instance in class_segmented_data.keys():\n",
    "    class_segmented_data[class_instance] = np.transpose(class_segmented_data[class_instance], (2, 1, 0))"
   ],
   "metadata": {
    "collapsed": false,
    "pycharm": {
     "name": "#%%\n"
    }
   }
  },
  {
   "cell_type": "code",
   "execution_count": 3,
   "outputs": [],
   "source": [
    "# Feature extraction\n",
    "class_dataset_features = {}\n",
    "for class_instance in class_segmented_data.keys():\n",
    "    dataset_features = []\n",
    "    for row in class_segmented_data[class_instance]:\n",
    "        computed_features = []\n",
    "        for col in row:\n",
    "            freq_args = [{\"axis\": 0}, {\"axis\": 0}, {\"axis\": 0, \"nperseg\": 15}]\n",
    "            freq_time_args = [{\"wavelet\": \"db1\"}, {\"wavelet\": \"db1\"}, {\"wavelet\": \"db1\"}]\n",
    "            computed_features += feature_extraction.compute_all_features(col, freq_args=freq_args, freq_time_args=freq_time_args)\n",
    "\n",
    "        # Append to a list\n",
    "        dataset_features.append(computed_features)\n",
    "\n",
    "    # Add to class instance\n",
    "    class_dataset_features[class_instance] = np.array(dataset_features)"
   ],
   "metadata": {
    "collapsed": false,
    "pycharm": {
     "name": "#%%\n"
    }
   }
  },
  {
   "cell_type": "code",
   "execution_count": 4,
   "outputs": [
    {
     "name": "stdout",
     "output_type": "stream",
     "text": [
      "After feature extraction process\n",
      "\n",
      "For the class-on-ref , the extracted features has the shape=(162, 153)\n"
     ]
    }
   ],
   "source": [
    "sys.stdout.write(\"After feature extraction process\\n\\n\")\n",
    "for class_instance in class_dataset_features.keys():\n",
    "\n",
    "    sys.stdout.write(f'For the class-{class_instance} , the extracted features has the shape={class_dataset_features[class_instance].shape}\\n')"
   ],
   "metadata": {
    "collapsed": false,
    "pycharm": {
     "name": "#%%\n"
    }
   }
  },
  {
   "cell_type": "code",
   "execution_count": 5,
   "outputs": [
    {
     "name": "stdout",
     "output_type": "stream",
     "text": [
      "The final combined shape-(162, 153)\n"
     ]
    }
   ],
   "source": [
    "class_label_associations = {\n",
    "    \"on-ref\": 0,\n",
    "    \"on-noref-error\": 1,\n",
    "    \"overtravel-x\": 2,\n",
    "    \"overtravel-y\": 3,\n",
    "    \"overtravel-z\": 4\n",
    "}\n",
    "for index, class_instance in enumerate(class_dataset_features.keys()):\n",
    "\n",
    "    temp_X = class_dataset_features[class_instance]\n",
    "    temp_y = np.repeat(class_label_associations[class_instance], temp_X.shape[0])[:, np.newaxis]\n",
    "\n",
    "    if index == 0:\n",
    "        X = temp_X\n",
    "        y = temp_y\n",
    "    else:\n",
    "        X = np.append(X, temp_X, axis=0)\n",
    "        y = np.append(y, temp_y, axis=0)\n",
    "\n",
    "# Shuffle the dataset\n",
    "X, y = shuffle(X, y, random_state=42)\n",
    "# To a vector format\n",
    "y =  np.squeeze(y)\n",
    "\n",
    "sys.stdout.write(f\"The final combined shape-{X.shape}\\n\")"
   ],
   "metadata": {
    "collapsed": false,
    "pycharm": {
     "name": "#%%\n"
    }
   }
  },
  {
   "cell_type": "markdown",
   "source": [
    "# Loading the models"
   ],
   "metadata": {
    "collapsed": false,
    "pycharm": {
     "name": "#%% md\n"
    }
   }
  },
  {
   "cell_type": "markdown",
   "source": [
    "## Multi-class models\n",
    "\n",
    "- Predicting the individual classes"
   ],
   "metadata": {
    "collapsed": false,
    "pycharm": {
     "name": "#%% md\n"
    }
   }
  },
  {
   "cell_type": "code",
   "execution_count": null,
   "outputs": [],
   "source": [
    "import joblib\n",
    "import os\n",
    "import pickle\n",
    "from collections import Counter\n",
    "\n",
    "models_dir = os.path.join(os.path.dirname(os.getcwd()), \"trained_models\", \"multi_class\")\n",
    "models = os.listdir(models_dir)\n",
    "model_pipelines = {}\n",
    "\n",
    "# Loading the model pipelines into dictionary\n",
    "for model in models:\n",
    "    model_path = os.path.join(models_dir, model)\n",
    "    with open(model_path, \"rb\") as file_handle:\n",
    "        model_pipelines[model.split(\".\")[0]] = joblib.load(file_handle)\n"
   ],
   "metadata": {
    "collapsed": false,
    "pycharm": {
     "name": "#%%\n"
    }
   }
  },
  {
   "cell_type": "code",
   "execution_count": null,
   "outputs": [],
   "source": [
    "# Scoring\n",
    "prediction_counts = {}\n",
    "scores = {}\n",
    "for model_name in model_pipelines.keys():\n",
    "    prediction_counts[model_name] = model_pipelines[model_name].predict(X)\n",
    "    scores[model_name] = model_pipelines[model_name].score(X, y)"
   ],
   "metadata": {
    "collapsed": false,
    "pycharm": {
     "name": "#%%\n"
    }
   }
  },
  {
   "cell_type": "code",
   "execution_count": null,
   "outputs": [],
   "source": [
    "# Get the results - Counts in predictions\n",
    "for model_name in prediction_counts:\n",
    "    sys.stdout.write(f\"{model_name} - {Counter(prediction_counts[model_name])}\\n\")"
   ],
   "metadata": {
    "collapsed": false,
    "pycharm": {
     "name": "#%%\n"
    }
   }
  },
  {
   "cell_type": "code",
   "execution_count": null,
   "outputs": [],
   "source": [
    "for model_name in scores:\n",
    "    sys.stdout.write(f\"{model_name} = {scores[model_name]}\\n\")"
   ],
   "metadata": {
    "collapsed": false,
    "pycharm": {
     "name": "#%%\n"
    }
   }
  },
  {
   "cell_type": "markdown",
   "source": [
    "## Anomaly Detection\n",
    "- Only two classes\n",
    "- Anomaly or NOT"
   ],
   "metadata": {
    "collapsed": false,
    "pycharm": {
     "name": "#%% md\n"
    }
   }
  },
  {
   "cell_type": "code",
   "execution_count": 6,
   "outputs": [
    {
     "name": "stdout",
     "output_type": "stream",
     "text": [
      "MahalanobisDistance.joblib\n",
      "IsolationForest.joblib\n",
      "KernelDensityEstimation.joblib\n"
     ]
    }
   ],
   "source": [
    "models_dir = os.path.join(os.path.dirname(os.getcwd()), \"trained_models\", \"anomaly_detection\")\n",
    "# In Container\n",
    "models_dir = os.path.join(os.path.dirname(os.getcwd()), \"aws-sagemaker\", \"container\", \"trained_models\", \"anomaly_detection\")\n",
    "models = os.listdir(models_dir)\n",
    "model_pipelines = {}\n",
    "\n",
    "# Loading the model pipelines into dictionary\n",
    "for model in models:\n",
    "    model_path = os.path.join(models_dir, model)\n",
    "    with open(model_path, \"rb\") as file_handle:\n",
    "        print(model)\n",
    "        model_pipelines[model.split(\".\")[0]] = joblib.load(file_handle)"
   ],
   "metadata": {
    "collapsed": false,
    "pycharm": {
     "name": "#%%\n"
    }
   }
  },
  {
   "cell_type": "code",
   "execution_count": 7,
   "outputs": [
    {
     "name": "stderr",
     "output_type": "stream",
     "text": [
      "/home/vselvaraj/software_installations/anaconda3/envs/machinelearning/lib/python3.8/site-packages/sklearn/metrics/_classification.py:1495: UndefinedMetricWarning: F-score is ill-defined and being set to 0.0 due to no true nor predicted samples. Use `zero_division` parameter to control this behavior.\n",
      "  _warn_prf(\n"
     ]
    }
   ],
   "source": [
    "# The y should be modified\n",
    "y_mod = np.where(y > 0, 1, 0)\n",
    "# Scoring\n",
    "prediction_counts = {}\n",
    "f1_scores = {}\n",
    "for model_name in model_pipelines.keys():\n",
    "    prediction_counts[model_name] = model_pipelines[model_name].predict(X)\n",
    "    f1_scores[model_name] = f1_score(y_mod, prediction_counts[model_name])"
   ],
   "metadata": {
    "collapsed": false,
    "pycharm": {
     "name": "#%%\n"
    }
   }
  },
  {
   "cell_type": "code",
   "execution_count": 8,
   "outputs": [
    {
     "data": {
      "text/plain": "{'MahalanobisDistance': array([0, 0, 0, 0, 0, 0, 0, 0, 0, 0, 0, 0, 0, 0, 0, 0, 0, 0, 0, 0, 0, 0,\n        0, 0, 0, 0, 0, 0, 1, 0, 0, 0, 0, 0, 0, 0, 0, 0, 0, 0, 0, 0, 0, 0,\n        0, 0, 0, 0, 0, 0, 0, 0, 0, 0, 0, 0, 0, 0, 0, 0, 0, 0, 0, 0, 0, 0,\n        0, 0, 0, 0, 0, 0, 0, 0, 0, 0, 0, 0, 0, 0, 0, 0, 0, 0, 0, 0, 0, 0,\n        0, 0, 0, 0, 0, 0, 0, 0, 0, 0, 0, 0, 0, 0, 0, 0, 0, 0, 0, 0, 0, 0,\n        0, 0, 0, 0, 0, 0, 0, 0, 0, 0, 0, 0, 0, 0, 0, 0, 0, 0, 0, 0, 0, 0,\n        0, 0, 0, 0, 0, 0, 0, 0, 0, 0, 0, 0, 0, 0, 0, 0, 0, 0, 0, 0, 0, 0,\n        0, 0, 0, 0, 0, 0, 0, 0]),\n 'IsolationForest': array([0, 0, 1, 0, 0, 0, 0, 0, 0, 0, 0, 0, 0, 0, 0, 0, 0, 0, 0, 0, 0, 0,\n        0, 0, 0, 0, 0, 0, 1, 0, 0, 0, 0, 0, 1, 1, 0, 0, 0, 0, 0, 0, 0, 0,\n        0, 0, 0, 0, 0, 0, 0, 0, 0, 0, 0, 0, 0, 0, 1, 0, 0, 0, 0, 1, 0, 0,\n        0, 0, 0, 0, 1, 0, 0, 0, 0, 0, 0, 0, 0, 0, 0, 0, 0, 0, 0, 0, 0, 0,\n        0, 0, 0, 0, 0, 0, 0, 0, 0, 0, 0, 0, 0, 1, 0, 0, 0, 0, 0, 0, 0, 1,\n        0, 0, 0, 0, 0, 0, 0, 0, 0, 0, 0, 0, 0, 0, 0, 0, 0, 1, 0, 0, 0, 0,\n        0, 0, 1, 0, 0, 0, 0, 1, 0, 0, 0, 0, 0, 0, 0, 0, 0, 0, 0, 0, 0, 0,\n        0, 0, 0, 0, 0, 0, 0, 0]),\n 'KernelDensityEstimation': array([0, 0, 0, 0, 0, 0, 0, 0, 0, 0, 0, 0, 0, 0, 0, 0, 0, 0, 0, 0, 0, 0,\n        0, 0, 0, 0, 0, 0, 0, 0, 0, 0, 0, 0, 0, 0, 0, 0, 0, 0, 0, 0, 0, 0,\n        0, 0, 0, 0, 0, 0, 0, 0, 0, 0, 0, 0, 0, 0, 0, 0, 0, 0, 0, 0, 0, 0,\n        0, 0, 0, 0, 0, 0, 0, 0, 0, 0, 0, 0, 0, 0, 0, 0, 0, 0, 0, 0, 0, 0,\n        0, 0, 0, 0, 0, 0, 0, 0, 0, 0, 0, 0, 0, 0, 0, 0, 0, 0, 0, 0, 0, 0,\n        0, 0, 0, 0, 0, 0, 0, 0, 0, 0, 0, 0, 0, 0, 0, 0, 0, 0, 0, 0, 0, 0,\n        0, 0, 0, 0, 0, 0, 0, 0, 0, 0, 0, 0, 0, 0, 0, 0, 0, 0, 0, 0, 0, 0,\n        0, 0, 0, 0, 0, 0, 0, 0])}"
     },
     "execution_count": 8,
     "metadata": {},
     "output_type": "execute_result"
    }
   ],
   "source": [
    "prediction_counts"
   ],
   "metadata": {
    "collapsed": false,
    "pycharm": {
     "name": "#%%\n"
    }
   }
  },
  {
   "cell_type": "code",
   "execution_count": 11,
   "outputs": [
    {
     "data": {
      "text/plain": "array([-137.95622668, -137.95622668, -137.95622668, -137.95622668,\n       -137.95622668, -137.95622668, -137.95622668, -137.95622668,\n       -137.95622668, -137.95622668, -137.95622668, -137.95622668,\n       -137.95622668, -137.95622668, -137.95622668, -137.95622668,\n       -137.95622668, -137.95622668, -137.95622668, -137.95622668,\n       -137.95622668, -137.95622668, -137.95622668, -137.95622668,\n       -137.95622668, -137.95622668, -137.95622668, -137.95622668,\n       -137.95622668, -137.95622668, -137.95622668, -137.95622668,\n       -137.95622668, -137.95622668, -137.95622668, -137.95622668,\n       -137.95622668, -137.95622668, -137.95622668, -137.95622668,\n       -137.95622668, -137.95622668, -137.95622668, -137.95622668,\n       -137.95622668, -137.95622668, -137.95622668, -137.95622668,\n       -137.95622668, -137.95622668, -137.95622668, -137.95622668,\n       -137.95622668, -137.95622668, -137.95622668, -137.95622668,\n       -137.95622668, -137.95622668, -137.95622668, -137.95622668,\n       -137.95622668, -137.95622668, -137.95622668, -137.95622668,\n       -137.95622668, -137.95622668, -137.95622668, -137.95622668,\n       -137.95622668, -137.95622668, -137.95622668, -137.95622668,\n       -137.95622668, -137.95622668, -137.95622668, -137.95622668,\n       -137.95622668, -137.95622668, -137.95622668, -137.95622668,\n       -137.95622668, -137.95622668, -137.95622668, -137.95622668,\n       -137.95622668, -137.95622668, -137.95622668, -137.95622668,\n       -137.95622668, -137.95622668, -137.95622668, -137.95622668,\n       -137.95622668, -137.95622668, -137.95622668, -137.95622668,\n       -137.95622668, -137.95622668, -137.95622668, -137.95622668,\n       -137.95622668, -137.95622668, -137.95622668, -137.95622668,\n       -137.95622668, -137.95622668, -137.95622668, -137.95622668,\n       -137.95622668, -137.95622668, -137.95622668, -137.95622668,\n       -137.95622668, -137.95622668, -137.95622668, -137.95622668,\n       -137.95622668, -137.95622668, -137.95622668, -137.95622668,\n       -137.95622668, -137.95622668, -137.95622668, -137.95622668,\n       -137.95622668, -137.95622668, -137.95622668, -137.95622668,\n       -137.95622668, -137.95622668, -137.95622668, -137.95622668,\n       -137.95622668, -137.95622668, -137.95622668, -137.95622668,\n       -137.95622668, -137.95622668, -137.95622668, -137.95622668,\n       -137.95622668, -137.95622668, -137.95622668, -137.95622668,\n       -137.95622668, -137.95622668, -137.95622668, -137.95622668,\n       -137.95622668, -137.95622668, -137.95622668, -137.95622668,\n       -137.95622668, -137.95622668, -137.95622668, -137.95622668,\n       -137.95622668, -137.95622668, -137.95622668, -137.95622668,\n       -137.95622668, -137.95622668])"
     },
     "execution_count": 11,
     "metadata": {},
     "output_type": "execute_result"
    }
   ],
   "source": [
    "model_pipelines['KernelDensityEstimation'].score_samples(X)"
   ],
   "metadata": {
    "collapsed": false,
    "pycharm": {
     "name": "#%%\n"
    }
   }
  },
  {
   "cell_type": "code",
   "execution_count": 12,
   "outputs": [
    {
     "data": {
      "text/plain": "-137.95622668372306"
     },
     "execution_count": 12,
     "metadata": {},
     "output_type": "execute_result"
    }
   ],
   "source": [
    "model_pipelines['KernelDensityEstimation'][\"clf\"].trained_threshold"
   ],
   "metadata": {
    "collapsed": false,
    "pycharm": {
     "name": "#%%\n"
    }
   }
  },
  {
   "cell_type": "code",
   "execution_count": null,
   "outputs": [],
   "source": [],
   "metadata": {
    "collapsed": false,
    "pycharm": {
     "name": "#%%\n"
    }
   }
  }
 ],
 "metadata": {
  "kernelspec": {
   "display_name": "Python 3",
   "language": "python",
   "name": "python3"
  },
  "language_info": {
   "codemirror_mode": {
    "name": "ipython",
    "version": 2
   },
   "file_extension": ".py",
   "mimetype": "text/x-python",
   "name": "python",
   "nbconvert_exporter": "python",
   "pygments_lexer": "ipython2",
   "version": "2.7.6"
  }
 },
 "nbformat": 4,
 "nbformat_minor": 0
}