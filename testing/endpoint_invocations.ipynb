{
 "cells": [
  {
   "cell_type": "code",
   "execution_count": null,
   "metadata": {
    "collapsed": true,
    "pycharm": {
     "name": "#%%\n"
    }
   },
   "outputs": [],
   "source": [
    "import boto3\n",
    "import json\n",
    "import time\n",
    "import os\n",
    "import sys\n",
    "from collections import Counter\n",
    "sys.path.append(os.path.join(os.path.dirname(os.getcwd()), \"lib\"))\n",
    "import data_prep\n",
    "import numpy as np"
   ]
  },
  {
   "cell_type": "code",
   "execution_count": null,
   "outputs": [],
   "source": [
    "# Get the runtime\n",
    "runtime = boto3.client(service_name=\"sagemaker-runtime\")\n",
    "# The name of the endpoint\n",
    "endpoint_name = \"em-ErrorIdentification\""
   ],
   "metadata": {
    "collapsed": false,
    "pycharm": {
     "name": "#%%\n"
    }
   }
  },
  {
   "cell_type": "markdown",
   "source": [
    "# One time invocations\n",
    "\n",
    "- Take a single data item and make an inference out of the single item"
   ],
   "metadata": {
    "collapsed": false,
    "pycharm": {
     "name": "#%% md\n"
    }
   }
  },
  {
   "cell_type": "code",
   "execution_count": null,
   "outputs": [],
   "source": [
    "prediction_data_json = {\n",
    "    \"data\": {\n",
    "        \"Power1\": \"128.4228973388672,128.38519287109375,128.4635772705078,128.35418701171875,128.401611328125,128.43150329589844,128.35324096679688,128.33140563964844,128.40899658203125,128.4582977294922,128.4197235107422,128.35003662109375,128.43936157226562,128.39686584472656,128.43603515625,128.47613525390625,128.4210662841797,128.52928161621094,128.38265991210938,128.370361328125,128.41526794433594,128.2650146484375,128.41510009765625,128.34967041015625,128.41946411132812,128.31500244140625,127.92464447021484,127.72956085205078,127.65003967285156,127.4871826171875,127.46755981445312,127.40485382080078,127.41928100585938,127.36489868164062,127.41143798828125,127.38587188720703,127.36735534667969,127.27261352539062,127.3384017944336,127.3858642578125,127.37337493896484,127.2583999633789,127.26586151123047,127.31262969970703,127.28665924072266,127.20384216308594,127.30225372314453,127.29635620117188,127.42439270019531,127.33246612548828,127.35265350341797,127.34090423583984,127.41221618652344,127.29424285888672,127.41419982910156,127.2379150390625,127.29786682128906,127.26566314697266,127.23470306396484,127.34761810302734\",\n",
    "        \"Power2\": \"141.0724334716797,141.0093994140625,141.09622192382812,141.10060119628906,141.0880584716797,141.1350555419922,141.09915161132812,141.02505493164062,141.1499481201172,141.0703125,141.09646606445312,141.08053588867188,140.97450256347656,141.14979553222656,141.0945587158203,141.11732482910156,141.06243896484375,141.03318786621094,141.05364990234375,141.08648681640625,141.0123291015625,140.99334716796875,141.116943359375,141.07260131835938,140.98439025878906,141.02999877929688,140.5606689453125,140.36444091796875,140.29043579101562,140.0982208251953,140.09201049804688,140.02285766601562,140.04296875,140.02354431152344,140.0137481689453,140.0060272216797,139.9744873046875,139.80410766601562,140.0372314453125,140.07984924316406,140.05914306640625,139.98277282714844,139.9330291748047,139.9285430908203,140.0333251953125,139.9510498046875,140.0835418701172,139.9911346435547,140.0647430419922,139.92926025390625,139.95787048339844,140.07269287109375,139.99440002441406,139.9615936279297,139.89356994628906,140.0163116455078,139.9768524169922,139.996337890625,139.90155029296875,140.03907775878906\",\n",
    "        \"Power3\": \"5.9498066902160645,5.9493842124938965,5.925576686859131,5.952275276184082,5.946435928344727,5.912459850311279,5.918330192565918,5.953469276428223,5.924947261810303,5.921692371368408,5.899148941040039,5.945212364196777,5.910761833190918,5.985533237457275,6.030521869659424,6.025863170623779,6.008535861968994,6.007434844970703,6.012050151824951,6.006187915802002,6.01261568069458,5.9604291915893555,5.990499973297119,5.976681232452393,5.9693427085876465,5.988169193267822,5.973461151123047,5.964461803436279,5.958130359649658,5.954821586608887,5.967252254486084,5.978113651275635,5.9720611572265625,5.9703216552734375,5.963560581207275,5.961635112762451,5.994361400604248,5.935263156890869,5.954430103302002,5.953614711761475,5.960968494415283,5.960245609283447,5.943869113922119,5.941051006317139,5.9362969398498535,5.9488525390625,5.940329074859619,5.956594944000244,5.920426368713379,5.945943832397461,5.942800045013428,5.9501495361328125,5.941242694854736,5.939822196960449,5.96486759185791,5.938878059387207,5.930113792419434,5.947301387786865,5.949357509613037,5.934205055236816\",\n",
    "        \"PowerReac1\": \"-49.995731353759766,-50.08112716674805,-50.088008880615234,-50.07065963745117,-50.068626403808594,-50.1368522644043,-50.101165771484375,-50.014774322509766,-50.049522399902344,-50.06781005859375,-50.095821380615234,-50.07903289794922,-49.970096588134766,-50.07003402709961,-50.130043029785156,-50.05234909057617,-50.09040451049805,-50.07231521606445,-50.11537170410156,-50.167354583740234,-50.11157989501953,-50.08743667602539,-50.32388687133789,-50.15156173706055,-50.12507247924805,-50.1200065612793,-49.92462158203125,-49.67500305175781,-49.67635726928711,-49.45463180541992,-49.53217315673828,-49.521278381347656,-49.594688415527344,-49.48504638671875,-49.50614929199219,-49.536582946777344,-49.4253044128418,-49.458839416503906,-49.60375213623047,-49.65235137939453,-49.70718765258789,-49.762481689453125,-49.63315963745117,-49.65732955932617,-49.7126579284668,-49.54928970336914,-49.78131866455078,-49.5828742980957,-49.674530029296875,-49.57081604003906,-49.55611801147461,-49.68865203857422,-49.58949661254883,-49.499839782714844,-49.462127685546875,-49.5567626953125,-49.66566848754883,-49.64846420288086,-49.59010696411133,-49.589698791503906\",\n",
    "        \"PowerReac2\": \"90.5499038696289,90.44932556152344,90.56482696533203,90.39889526367188,90.43001556396484,90.57209014892578,90.40495300292969,90.38880920410156,90.46817016601562,90.51712799072266,90.46410369873047,90.34834289550781,90.4703140258789,90.36127471923828,90.3632583618164,90.49446105957031,90.40252685546875,90.4769287109375,90.32987976074219,90.31932830810547,90.26835632324219,90.34900665283203,90.28723907470703,90.35672760009766,90.30963897705078,90.3653564453125,90.13104248046875,90.02291107177734,90.06715393066406,89.98805236816406,89.9601058959961,89.80450439453125,89.97154998779297,89.8364028930664,89.87712860107422,89.87174987792969,89.87001037597656,89.83855438232422,89.85832214355469,89.73220825195312,89.8592758178711,89.80926513671875,89.75847625732422,89.7551498413086,89.75945281982422,89.71617126464844,89.76151275634766,89.8496322631836,89.83155059814453,89.84693908691406,89.95935821533203,90.10868835449219,89.90898895263672,89.81964111328125,89.92755126953125,89.84668731689453,89.89945983886719,89.77729034423828,89.78488159179688,89.8844985961914\",\n",
    "        \"PowerReac3\": \"31.747461318969727,31.701269149780273,31.72957420349121,31.707199096679688,31.742446899414062,31.71591567993164,31.71082305908203,31.73173713684082,31.74660301208496,31.72195053100586,31.703248977661133,31.730464935302734,31.73272705078125,31.707908630371094,31.689191818237305,31.68854522705078,31.697420120239258,31.6883602142334,31.692752838134766,31.692501068115234,31.674898147583008,31.67058753967285,31.685739517211914,31.698284149169922,31.739652633666992,31.708459854125977,31.706132888793945,31.72172737121582,31.711145401000977,31.724163055419922,31.73638916015625,31.716703414916992,31.682655334472656,31.691776275634766,31.726423263549805,31.69374656677246,31.723812103271484,31.68214988708496,31.661760330200195,31.669870376586914,31.665603637695312,31.62151527404785,31.633787155151367,31.60248565673828,31.59164810180664,31.589582443237305,31.579151153564453,31.605039596557617,31.62265396118164,31.653100967407227,31.650163650512695,31.651302337646484,31.627670288085938,31.658897399902344,31.646333694458008,31.663877487182617,31.670194625854492,31.636856079101562,31.666561126708984,31.641006469726562\",\n",
    "        \"PowerApp1\": \"252.4359588623047,252.3312530517578,252.2284698486328,252.20004272460938,252.29119873046875,252.34881591796875,252.2125244140625,252.29808044433594,252.39637756347656,252.23309326171875,252.0583953857422,252.222412109375,252.27369689941406,252.2379608154297,252.47422790527344,252.43910217285156,252.31544494628906,252.62869262695312,252.30833435058594,252.22630310058594,252.3147735595703,251.92987060546875,252.20278930664062,251.93177795410156,251.9535675048828,252.16177368164062,251.1200714111328,250.9684295654297,250.9536590576172,250.67213439941406,250.47596740722656,250.41720581054688,250.2528839111328,250.38583374023438,250.4090118408203,250.47218322753906,250.2985076904297,250.1368865966797,250.21420288085938,250.12442016601562,250.1562042236328,249.7374725341797,249.7393341064453,249.76268005371094,249.89627075195312,249.53245544433594,249.96890258789062,249.86830139160156,249.9938201904297,249.98287963867188,249.82252502441406,249.87644958496094,250.01686096191406,249.9630889892578,250.09429931640625,249.81259155273438,249.84768676757812,249.76011657714844,249.7607879638672,249.81980895996094\",\n",
    "        \"PowerApp2\": \"271.6962890625,271.47918701171875,271.37860107421875,271.39398193359375,271.4819641113281,271.5084533691406,271.364501953125,271.51788330078125,271.6124572753906,271.43115234375,271.2041015625,271.36279296875,271.3459167480469,271.3669738769531,271.6183776855469,271.5372619628906,271.52490234375,271.6851501464844,271.45440673828125,271.38604736328125,271.329345703125,271.0770263671875,271.2042541503906,271.023193359375,270.9859924316406,271.24481201171875,270.1418151855469,270.0579833984375,269.9954833984375,269.79376220703125,269.5986633300781,269.51922607421875,269.2972412109375,269.5020446777344,269.5555419921875,269.4912414550781,269.4103088378906,269.0968933105469,269.3372497558594,269.0916442871094,269.2237243652344,268.85882568359375,268.8555603027344,268.7340393066406,268.8565979003906,268.60906982421875,268.95965576171875,269.0028076171875,269.0426940917969,269.058837890625,268.94097900390625,269.06732177734375,269.0594482421875,269.1262512207031,269.1692810058594,269.0582275390625,269.0378723144531,268.9227294921875,268.9122009277344,268.99456787109375\",\n",
    "        \"PowerApp3\": \"32.368507385253906,32.32118225097656,32.34388732910156,32.32661819458008,32.355804443359375,32.32869338989258,32.322078704833984,32.353614807128906,32.35520553588867,32.33300018310547,32.317955017089844,32.34842300415039,32.34135055541992,32.33932113647461,32.33443832397461,32.32736587524414,32.33783721923828,32.3253173828125,32.329383850097656,32.330078125,32.31694030761719,32.299461364746094,32.32002639770508,32.32900619506836,32.36452865600586,32.34184646606445,32.330299377441406,32.34196472167969,32.33734130859375,32.347007751464844,32.36762237548828,32.34589385986328,32.312835693359375,32.32246017456055,32.350704193115234,32.318599700927734,32.36155700683594,32.296688079833984,32.28879928588867,32.294376373291016,32.286556243896484,32.24679946899414,32.26078796386719,32.226993560791016,32.212345123291016,32.21196365356445,32.20637512207031,32.23050308227539,32.24146270751953,32.26791000366211,32.27070236206055,32.278541564941406,32.24998474121094,32.2802734375,32.2701530456543,32.28458786010742,32.27769470214844,32.251102447509766,32.289302825927734,32.26449966430664\"\n",
    "    },\n",
    "    \"energyFeatures\": \"Power1,Power2,Power3,PowerReac1,PowerReac2,PowerReac3,PowerApp1,PowerApp2,PowerApp3\"\n",
    "}"
   ],
   "metadata": {
    "collapsed": false,
    "pycharm": {
     "name": "#%%\n"
    }
   }
  },
  {
   "cell_type": "code",
   "execution_count": null,
   "outputs": [],
   "source": [
    "start_time = time.time()\n",
    "response = runtime.invoke_endpoint(\n",
    "    EndpointName=endpoint_name,\n",
    "    Body=json.dumps(prediction_data_json),\n",
    "    ContentType=\"application/json\",\n",
    "    Accept=\"application/json\"\n",
    ")\n",
    "elapsed_time = time.time() - start_time\n",
    "\n",
    "print(f\"Time take to call an endpoint and get a response is {elapsed_time}\")"
   ],
   "metadata": {
    "collapsed": false,
    "pycharm": {
     "name": "#%%\n"
    }
   }
  },
  {
   "cell_type": "code",
   "execution_count": null,
   "outputs": [],
   "source": [
    "response[\"Body\"].read()"
   ],
   "metadata": {
    "collapsed": false,
    "pycharm": {
     "name": "#%%\n"
    }
   }
  },
  {
   "cell_type": "markdown",
   "source": [
    "# Multiple invocations\n",
    "\n",
    "- Can be used to make large number of predictions\n",
    "- Load the data as you see fit. Make the predictions then"
   ],
   "metadata": {
    "collapsed": false,
    "pycharm": {
     "name": "#%% md\n"
    }
   }
  },
  {
   "cell_type": "markdown",
   "source": [
    "## Test all files"
   ],
   "metadata": {
    "collapsed": false,
    "pycharm": {
     "name": "#%% md\n"
    }
   }
  },
  {
   "cell_type": "code",
   "execution_count": null,
   "outputs": [],
   "source": [
    "# Base directory\n",
    "data_loc = os.path.join(os.path.dirname(os.getcwd()), \"DATA\")\n",
    "\n",
    "# File names\n",
    "file_names = {\n",
    "    0: \"machine_ON_ref_overtravel-error_x_neg_axes-extreme_1.csv\",\n",
    "    1: \"machine_ON_ref_no-error_3.csv\",\n",
    "    2: \"machine_ON_ref_no-error_4.csv\",\n",
    "    3: \"machine_ON_ref_overtravel-error_z_pos_1.csv\",\n",
    "    4: \"machine_ON_no-ref_start-error_4.csv\"\n",
    "}\n",
    "\n",
    "segment_secs = 60\n",
    "# Dont choose \"no\" and \"sample_time\" as they will be added later to the beginning\n",
    "# Chosen - Three different power components for three phases\n",
    "chosen_cols = [\"Power1\", \"Power2\", \"Power3\", \"PowerReac1\", \"PowerReac2\", \"PowerReac3\", \"PowerApp1\", \"PowerApp2\", \"PowerApp3\"]\n",
    "segmented_data = {}\n",
    "for index, file_name in file_names.items():\n",
    "    path = os.path.join(data_loc, file_name)\n",
    "    temp = data_prep.segment_data(file_name=path, col_names=chosen_cols, segment_secs=segment_secs)\n",
    "    # Remove the sample_time col\n",
    "    temp = temp[:, 1:, :]\n",
    "    segmented_data[file_name] =  temp\n",
    "\n",
    "\n",
    "# Associations between the classes and the files in this study\n",
    "class_file_association = {\n",
    "    \"on-ref\": [\"machine_ON_ref_no-error_3.csv\"],\n",
    "}\n",
    "# Segment and assign to class\n",
    "class_segmented_data = {}\n",
    "for class_instance in class_file_association.keys():\n",
    "    for index, file_name in enumerate(class_file_association[class_instance]):\n",
    "\n",
    "        if index == 0:\n",
    "            class_segmented_data[class_instance] = segmented_data[file_name]\n",
    "        else:\n",
    "            class_segmented_data[class_instance] = np.append(class_segmented_data[class_instance], segmented_data[file_name], axis=-1)\n",
    "# Reshape the data appropriately\n",
    "for class_instance in class_segmented_data.keys():\n",
    "    class_segmented_data[class_instance] = np.transpose(class_segmented_data[class_instance], (2, 1, 0))"
   ],
   "metadata": {
    "collapsed": false,
    "pycharm": {
     "name": "#%%\n"
    }
   }
  },
  {
   "cell_type": "code",
   "execution_count": null,
   "outputs": [],
   "source": [
    "class_label_associations = {\n",
    "    \"on-ref\": 0,\n",
    "    \"on-noref-error\": 1,\n",
    "    \"overtravel-x\": 2,\n",
    "    \"overtravel-y\": 3,\n",
    "    \"overtravel-z\": 4\n",
    "}\n",
    "inference_dataset = []\n",
    "for index, class_name in enumerate(class_segmented_data.keys()):\n",
    "    # Modify the training dataset as required\n",
    "    for item in class_segmented_data[class_name]:\n",
    "        inference_data_item = {\"data\": {}, \"energyFeatures\": \"Power1,Power2,Power3,PowerReac1,PowerReac2,PowerReac3,PowerApp1,PowerApp2,PowerApp3\"}\n",
    "        for power_component_index in range(item.shape[0]):\n",
    "            temp = [str(x) for x in item[power_component_index]]\n",
    "            inference_data_item[\"data\"][chosen_cols[power_component_index]] = \",\".join(temp)\n",
    "\n",
    "        #\n",
    "        inference_dataset.append(inference_data_item)\n",
    "\n",
    "    # Get the y-labels\n",
    "    temp_y = np.repeat(class_label_associations[class_name], class_segmented_data[class_name].shape[0])[:, np.newaxis]\n",
    "\n",
    "    if index == 0:\n",
    "        y = temp_y\n",
    "    else:\n",
    "        y = np.append(y, temp_y, axis=0)\n",
    "\n",
    "# Squeeze the y\n",
    "y = np.squeeze(y)\n",
    "\n",
    "sys.stdout.write(f\"The final combined shape-{y.shape}\\n\")\n"
   ],
   "metadata": {
    "collapsed": false,
    "pycharm": {
     "name": "#%%\n"
    }
   }
  },
  {
   "cell_type": "code",
   "execution_count": null,
   "outputs": [],
   "source": [
    "# call the endpoint and get inference details\n",
    "responses = []\n",
    "start_time = time.time()\n",
    "for inference_data_json in inference_dataset:\n",
    "    # Calling the endpoint with required data\n",
    "    response = runtime.invoke_endpoint(\n",
    "        EndpointName=endpoint_name,\n",
    "        Body=json.dumps(inference_data_json),\n",
    "        ContentType=\"application/json\"\n",
    "    )\n",
    "\n",
    "    # Store the inferences\n",
    "    responses.append(json.loads(response[\"Body\"].read()))\n",
    "elapsed_time = time.time() - start_time\n",
    "sys.stdout.write(f\"Elapsed time - {elapsed_time}\\n\")"
   ],
   "metadata": {
    "collapsed": false,
    "pycharm": {
     "name": "#%%\n"
    }
   }
  },
  {
   "cell_type": "code",
   "execution_count": null,
   "outputs": [],
   "source": [
    "responses"
   ],
   "metadata": {
    "collapsed": false,
    "pycharm": {
     "name": "#%%\n"
    }
   }
  },
  {
   "cell_type": "markdown",
   "source": [
    "## Multi-class Classification"
   ],
   "metadata": {
    "collapsed": false,
    "pycharm": {
     "name": "#%% md\n"
    }
   }
  },
  {
   "cell_type": "code",
   "execution_count": null,
   "outputs": [],
   "source": [
    "# Majority Rule\n",
    "y_inferred = []\n",
    "for result in responses:\n",
    "    # Get the responses from all models\n",
    "    inferences = list(result[\"multi_class\"].values())\n",
    "    inferences_count = Counter(inferences)\n",
    "    inferences_count_keys = list(inferences_count.keys())\n",
    "    inferences_count_vals = list(inferences_count.values())\n",
    "\n",
    "    # top count index\n",
    "    max_index = inferences_count_vals.index(max(inferences_count_vals))\n",
    "\n",
    "    # Top inference\n",
    "    top_inference = inferences_count_keys[max_index]\n",
    "    y_inferred.append(int(top_inference))"
   ],
   "metadata": {
    "collapsed": false,
    "pycharm": {
     "name": "#%%\n"
    }
   }
  },
  {
   "cell_type": "code",
   "execution_count": null,
   "outputs": [],
   "source": [
    "from sklearn.metrics import confusion_matrix, ConfusionMatrixDisplay\n",
    "\n",
    "# Compute confusion matrices\n",
    "cm = confusion_matrix(y, y_inferred, normalize=\"true\")\n",
    "classes = [\"on-ref\", \"off\", \"on-noref-error\", \"overtravel-x\", \"overtravel-y\", \"overtravel-z\"]\n",
    "\n",
    "# Plotting\n",
    "disp = ConfusionMatrixDisplay(confusion_matrix=cm, display_labels=classes)\n",
    "disp.plot(cmap=\"Greens\", xticks_rotation=\"vertical\", colorbar=False)"
   ],
   "metadata": {
    "collapsed": false,
    "pycharm": {
     "name": "#%%\n"
    }
   }
  },
  {
   "cell_type": "markdown",
   "source": [
    "## Anomaly detection"
   ],
   "metadata": {
    "collapsed": false,
    "pycharm": {
     "name": "#%% md\n"
    }
   }
  },
  {
   "cell_type": "code",
   "execution_count": null,
   "outputs": [],
   "source": [
    "kde = []\n",
    "md = []\n",
    "iso = []\n",
    "for result in responses:\n",
    "    kde.append(result[\"anomaly_detection\"][\"KernelDensityEstimation\"])\n",
    "    md.append(result[\"anomaly_detection\"][\"MahalanobisDistance\"])\n",
    "    iso.append(result[\"anomaly_detection\"][\"IsolationForest\"])"
   ],
   "metadata": {
    "collapsed": false,
    "pycharm": {
     "name": "#%%\n"
    }
   }
  },
  {
   "cell_type": "code",
   "execution_count": null,
   "outputs": [],
   "source": [
    "Counter(kde)"
   ],
   "metadata": {
    "collapsed": false,
    "pycharm": {
     "name": "#%%\n"
    }
   }
  },
  {
   "cell_type": "code",
   "execution_count": null,
   "outputs": [],
   "source": [],
   "metadata": {
    "collapsed": false,
    "pycharm": {
     "name": "#%%\n"
    }
   }
  }
 ],
 "metadata": {
  "kernelspec": {
   "display_name": "Python 3",
   "language": "python",
   "name": "python3"
  },
  "language_info": {
   "codemirror_mode": {
    "name": "ipython",
    "version": 2
   },
   "file_extension": ".py",
   "mimetype": "text/x-python",
   "name": "python",
   "nbconvert_exporter": "python",
   "pygments_lexer": "ipython2",
   "version": "2.7.6"
  }
 },
 "nbformat": 4,
 "nbformat_minor": 0
}