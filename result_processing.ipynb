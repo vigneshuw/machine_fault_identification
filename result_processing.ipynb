{
 "cells": [
  {
   "cell_type": "code",
   "execution_count": null,
   "outputs": [],
   "source": [
    "import numpy as np\n",
    "import pandas as pd\n",
    "import os\n",
    "import matplotlib.pyplot as plt\n",
    "import matplotlib\n",
    "import pickle\n",
    "import sys\n",
    "from lib import models\n",
    "from sklearn.model_selection import train_test_split\n",
    "from sklearn.preprocessing import StandardScaler\n",
    "from sklearn.metrics import confusion_matrix, ConfusionMatrixDisplay\n",
    "\n",
    "font = {\n",
    "    \"family\": \"sans-serif\",\n",
    "    \"weight\": \"bold\",\n",
    "    \"size\": 16\n",
    "}\n",
    "matplotlib.rc(\"font\", **font)"
   ],
   "metadata": {
    "collapsed": false,
    "pycharm": {
     "name": "#%%\n"
    }
   }
  },
  {
   "cell_type": "code",
   "execution_count": null,
   "outputs": [],
   "source": [
    "# Read the data\n",
    "dir_path = os.path.join(os.getcwd(), \"results\")\n",
    "file_name = \"segment_times_multi-class.xlsx\"\n",
    "\n",
    "# load all the data\n",
    "segment_windows = [15, 30, 60, 120]\n",
    "dfs = {}\n",
    "for segment_window in segment_windows:\n",
    "    dfs[segment_window] = pd.read_excel(os.path.join(dir_path, file_name), str(segment_window), index_col=0, header=[0, 1])\n",
    "\n",
    "# Strip the white spaces at the end within the col names\n",
    "for segment_window in segment_windows:\n",
    "    cols = dfs[segment_window].columns\n",
    "    new_cols = []\n",
    "    for col in cols:\n",
    "        temp1 = col[0].strip()\n",
    "        temp2 = col[1].strip()\n",
    "        new_cols.append((temp1, temp2))\n",
    "    dfs[segment_window].columns = pd.MultiIndex.from_tuples(new_cols)"
   ],
   "metadata": {
    "collapsed": false,
    "pycharm": {
     "name": "#%%\n"
    }
   }
  },
  {
   "cell_type": "markdown",
   "source": [
    "# Impact of the Window sizes\n",
    "- The plot between different window sizes"
   ],
   "metadata": {
    "collapsed": false
   }
  },
  {
   "cell_type": "markdown",
   "source": [
    "## Plot on different window sizes\n",
    "\n",
    "To determine which among the tried window sizes is the best\n",
    "\n",
    "- For the study only the F1-Score is considered"
   ],
   "metadata": {
    "collapsed": false
   }
  },
  {
   "cell_type": "markdown",
   "source": [
    "Plotting the average of the F1-Score"
   ],
   "metadata": {
    "collapsed": false
   }
  },
  {
   "cell_type": "code",
   "execution_count": null,
   "outputs": [],
   "source": [
    "# Figure parameters\n",
    "fig = plt.figure(figsize=(15, 8))\n",
    "ax = fig.add_axes([0, 0, 1, 1])\n",
    "\n",
    "# The models in the picture\n",
    "labels = [\"LogisticRegression\", \"DecisionTree\", \"k-NN\", \"SVC\", \"Bagging\", \"RandomForests\"]\n",
    "model_names_file = np.unique([x[0] for x in dfs[120].columns]).tolist()\n",
    "x = np.arange(len(model_names_file))\n",
    "width = 0.15\n",
    "segment_vals_accuracy = {}\n",
    "segment_vals_std = {}\n",
    "\n",
    "for segment_window in segment_windows:\n",
    "    segment_vals_accuracy[segment_window] = []\n",
    "    segment_vals_std[segment_window] = []\n",
    "    for model_name in model_names_file:\n",
    "        segment_vals_accuracy[segment_window].append(dfs[segment_window][model_name][\"score\"].iloc[2])\n",
    "        segment_vals_std[segment_window].append(dfs[segment_window][model_name][\"std\"].iloc[2])\n",
    "\n",
    "# Plotting\n",
    "ax.bar(x - 0.225, segment_vals_accuracy[15], width, label=\"Window-15s\")\n",
    "ax.bar(x - 0.075, segment_vals_accuracy[30], width, label=\"Window-30s\")\n",
    "ax.bar(x + 0.075, segment_vals_accuracy[60], width, label=\"Window-60s\")\n",
    "ax.bar(x + 0.225, segment_vals_accuracy[120], width, label=\"Window-120s\")\n",
    "\n",
    "# Set legends and labels\n",
    "ax.set_ylabel(\"F1-Score\")\n",
    "ax.set_xlabel(\"ML Models\")\n",
    "ax.set_title(\"F1-score by models and segmentation window sizes\")\n",
    "ax.set_xticks(x)\n",
    "ax.set_xticklabels(model_names_file)\n",
    "ax.legend()\n"
   ],
   "metadata": {
    "collapsed": false,
    "pycharm": {
     "name": "#%%\n"
    }
   }
  },
  {
   "cell_type": "markdown",
   "source": [
    "Plotting the Standard Deviation of the F1-Score"
   ],
   "metadata": {
    "collapsed": false
   }
  },
  {
   "cell_type": "code",
   "execution_count": null,
   "outputs": [],
   "source": [
    "# Figure parameters\n",
    "fig = plt.figure(figsize=(15, 8))\n",
    "ax = fig.add_axes([0, 0, 1, 1])\n",
    "\n",
    "# Plotting\n",
    "ax.bar(x - 0.225, segment_vals_std[15], width, label=\"Window-15s\")\n",
    "ax.bar(x - 0.075, segment_vals_std[30], width, label=\"Window-30s\")\n",
    "ax.bar(x + 0.075, segment_vals_std[60], width, label=\"Window-60s\")\n",
    "ax.bar(x + 0.225, segment_vals_std[120], width, label=\"Window-120s\")\n",
    "\n",
    "# Set legends and labels\n",
    "ax.set_ylabel(\"F1-Score SD($\\sigma$)\")\n",
    "ax.set_xlabel(\"ML Models\")\n",
    "ax.set_title(\"F1-score SD($\\sigma$)  by models and segmentation window sizes\")\n",
    "ax.set_xticks(x)\n",
    "ax.set_xticklabels(model_names_file)\n",
    "ax.legend()"
   ],
   "metadata": {
    "collapsed": false,
    "pycharm": {
     "name": "#%%\n"
    }
   }
  },
  {
   "cell_type": "markdown",
   "source": [
    "Ideally the best window size would be 15s\n",
    "- Highest prediction accuracy\n",
    "- Lowest SD\n",
    "\n",
    "---\n",
    "\n",
    "The one that was chosen was the 60sec, because its performance was consistent\n",
    "\n"
   ],
   "metadata": {
    "collapsed": false
   }
  },
  {
   "cell_type": "markdown",
   "source": [
    "# Determine the confusion matrices"
   ],
   "metadata": {
    "collapsed": false
   }
  },
  {
   "cell_type": "code",
   "execution_count": null,
   "outputs": [],
   "source": [
    "# Load the data\n",
    "file_dir = os.path.join(os.getcwd(), \"results\")\n",
    "file_name = \"training_data_seg-60.pkl\"\n",
    "with open(os.path.join(file_dir, file_name), \"rb\") as file_handle:\n",
    "    train_data = pickle.load(file_handle)\n",
    "X = train_data[\"X\"]\n",
    "y = train_data[\"y\"]\n",
    "\n",
    "sys.stdout.write(f\"The shape of the loaded data is {X.shape}\\n\")"
   ],
   "metadata": {
    "collapsed": false,
    "pycharm": {
     "name": "#%%\n"
    }
   }
  },
  {
   "cell_type": "code",
   "execution_count": null,
   "outputs": [],
   "source": [
    "# Splitting into training and testing\n",
    "X_train, X_test, y_train, y_test = train_test_split(X, y, test_size=0.20, random_state=42)\n",
    "\n",
    "# Apply StandardScaler\n",
    "scaler = StandardScaler()\n",
    "scaler = scaler.fit(X_train)\n",
    "X_train_std = scaler.transform(X_train)\n",
    "X_test_std = scaler.transform(X_test)"
   ],
   "metadata": {
    "collapsed": false,
    "pycharm": {
     "name": "#%%\n"
    }
   }
  },
  {
   "cell_type": "code",
   "execution_count": null,
   "outputs": [],
   "source": [
    "# get the models\n",
    "model_params = {'LogisticRegression': {'max_iter': 5000, 'multi_class': 'multinomial', 'n_jobs': 4, 'tol': 0.0001, \"class_weight\": \"balanced\"},\n",
    " 'DecisionTreeClassifier': {'class_weight': 'balanced', 'max_depth': None, 'min_samples_leaf': 1, 'min_samples_split': 100},\n",
    " 'KNeighborsClassifier': {'n_neighbors': 20},\n",
    " 'SVC': {'class_weight': 'balanced', 'kernel': 'linear', 'tol': 1e-07},\n",
    " 'BaggingClassifier': {'n_estimators': 50},\n",
    " 'RandomForestClassifier': {'class_weight': 'balanced', 'max_depth': 50, 'min_samples_leaf': 1, 'min_samples_split': 100, 'n_estimators': 200}}\n",
    "\n",
    "# Create repo of models\n",
    "models_repo = models.Models()\n",
    "# Initialize the models\n",
    "models_repo.create_models(model_params)"
   ],
   "metadata": {
    "collapsed": false,
    "pycharm": {
     "name": "#%%\n"
    }
   }
  },
  {
   "cell_type": "code",
   "execution_count": null,
   "outputs": [],
   "source": [
    "# Training the model\n",
    "models_repo.train_models(X_train, y_train, verbose=1)"
   ],
   "metadata": {
    "collapsed": false,
    "pycharm": {
     "name": "#%%\n"
    }
   }
  },
  {
   "cell_type": "code",
   "execution_count": null,
   "outputs": [],
   "source": [
    "# Make and store predictions\n",
    "predictions = {}\n",
    "for model_name in models_repo.trained_model_dict.keys():\n",
    "    predictions[model_name] = models_repo.trained_model_dict[model_name].predict(X_test)"
   ],
   "metadata": {
    "collapsed": false,
    "pycharm": {
     "name": "#%%\n"
    }
   }
  },
  {
   "cell_type": "code",
   "execution_count": null,
   "outputs": [],
   "source": [
    "fig = plt.figure(figsize=(20, 20))\n",
    "axs = fig.subplots(2, 3)\n",
    "\n",
    "# Reset fonts\n",
    "font = {\n",
    "    \"family\": \"sans-serif\",\n",
    "    \"weight\": \"bold\",\n",
    "    \"size\": 16\n",
    "}\n",
    "matplotlib.rc(\"font\", **font)\n",
    "\n",
    "# Plot the matrices\n",
    "model_names = list(predictions.keys())\n",
    "index = 0\n",
    "classes = [\"on-ref\", \"on-noref-error\", \"overtravel-x\", \"overtravel-y\", \"overtravel-z\"]\n",
    "for row in range(2):\n",
    "    for col in range(3):\n",
    "        cm = confusion_matrix(y_test, predictions[model_names[index]], normalize=\"true\")\n",
    "        disp = ConfusionMatrixDisplay(confusion_matrix=cm, display_labels=classes)\n",
    "        disp.plot(cmap=\"Greens\", ax=axs[row, col], xticks_rotation=\"vertical\", colorbar=False)\n",
    "        # Set the axs details\n",
    "        axs[row, col].set_title(f\"{model_names[index]}\")\n",
    "        index += 1\n",
    "\n",
    "fig.tight_layout(pad=1.0)\n"
   ],
   "metadata": {
    "collapsed": false,
    "pycharm": {
     "name": "#%%\n"
    }
   }
  },
  {
   "cell_type": "code",
   "execution_count": null,
   "outputs": [],
   "source": [],
   "metadata": {
    "collapsed": false,
    "pycharm": {
     "name": "#%%\n"
    }
   }
  }
 ],
 "metadata": {
  "kernelspec": {
   "display_name": "Python 3",
   "language": "python",
   "name": "python3"
  },
  "language_info": {
   "codemirror_mode": {
    "name": "ipython",
    "version": 2
   },
   "file_extension": ".py",
   "mimetype": "text/x-python",
   "name": "python",
   "nbconvert_exporter": "python",
   "pygments_lexer": "ipython2",
   "version": "2.7.6"
  }
 },
 "nbformat": 4,
 "nbformat_minor": 0
}